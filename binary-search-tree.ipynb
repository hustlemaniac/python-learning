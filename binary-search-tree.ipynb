{
 "cells": [
  {
   "attachments": {},
   "cell_type": "markdown",
   "metadata": {},
   "source": [
    "Insertion in BST"
   ]
  },
  {
   "cell_type": "code",
   "execution_count": 13,
   "metadata": {},
   "outputs": [
    {
     "name": "stdout",
     "output_type": "stream",
     "text": [
      "4\n",
      "6\n",
      "8\n",
      "10\n",
      "15\n",
      "17\n",
      "18\n",
      "21\n",
      "22\n"
     ]
    }
   ],
   "source": [
    "class Node:\n",
    "    def __init__(self, val, left = None, right = None):\n",
    "        self.val = val\n",
    "        self.left = left\n",
    "        self.right = right\n",
    "\n",
    "def insert(root, node):\n",
    "    if not root:\n",
    "        root = Node(node)\n",
    "        return root\n",
    "    if root.val > node:\n",
    "        if not root.left:\n",
    "            root.left = Node(node)\n",
    "        else:\n",
    "            insert(root.left, node)\n",
    "    else:\n",
    "        if not root.right:\n",
    "            root.right = Node(node)\n",
    "        else:\n",
    "            insert(root.right, node)\n",
    "    return root\n",
    "def inorder(root):\n",
    "    if not root:\n",
    "        return   \n",
    "    inorder(root.left)\n",
    "    print(root.val)         \n",
    "    inorder(root.right)\n",
    "\n",
    "root = Node(10)\n",
    "root = insert(root, 6) \n",
    "root = insert(root, 18)\n",
    "root = insert(root, 4)\n",
    "root = insert(root, 8)\n",
    "root = insert(root, 15)\n",
    "root = insert(root, 21)\n",
    "root = insert(root, 22)\n",
    "root = insert(root, 17)\n",
    "\n",
    "inorder(root)\n"
   ]
  },
  {
   "attachments": {},
   "cell_type": "markdown",
   "metadata": {},
   "source": [
    "Deletion in BST"
   ]
  },
  {
   "cell_type": "code",
   "execution_count": 17,
   "metadata": {},
   "outputs": [
    {
     "name": "stdout",
     "output_type": "stream",
     "text": [
      "22,24,26,30,46,47,49,80,90,\n",
      "\n",
      "After Deleting node 24\n",
      "22,26,30,46,47,49,80,90,"
     ]
    }
   ],
   "source": [
    "class Node:\n",
    "    def __init__(self, val, left = None, right = None):\n",
    "        self.val = val\n",
    "        self.left = left\n",
    "        self.right = right\n",
    "\n",
    "def insert(root, node):\n",
    "    if not root:\n",
    "        root = Node(node)\n",
    "        return root\n",
    "    if root.val > node:\n",
    "        if not root.left:\n",
    "            root.left = Node(node)\n",
    "        else:\n",
    "            insert(root.left, node)\n",
    "    else:\n",
    "        if not root.right:\n",
    "            root.right = Node(node)\n",
    "        else:\n",
    "            insert(root.right, node)\n",
    "    return root\n",
    "def delete(root, node):\n",
    "    if not root:\n",
    "        return\n",
    "    if root.val < node:\n",
    "        root.right = delete(root.right, node)\n",
    "        return root\n",
    "    if root.val > node:\n",
    "        root.left = delete(root.left, node)\n",
    "        return root\n",
    "    if not root.left and not root.right:\n",
    "        del root\n",
    "        return None\n",
    "    if root.left and not root.right:\n",
    "        newRoot = root.left\n",
    "        del root\n",
    "        return newRoot\n",
    "    if root.right and not root.left:\n",
    "        newRoot = root.right\n",
    "        del root\n",
    "        return newRoot  \n",
    "    parent = root\n",
    "    newRoot = root.right\n",
    "    while newRoot.left:\n",
    "        parent = newRoot\n",
    "        newRoot = newRoot.left\n",
    "    if parent == root:\n",
    "        parent.right = newRoot.right\n",
    "    else:\n",
    "        parent.left = newRoot.right\n",
    "    root.val = newRoot.val\n",
    "    del newRoot\n",
    "    return root\n",
    "    \n",
    "def inorder(root):\n",
    "    if not root:\n",
    "        return   \n",
    "    inorder(root.left)\n",
    "    print(root.val, end = \",\")         \n",
    "    inorder(root.right)\n",
    "\n",
    "root = Node(46)\n",
    "root = insert(root, 24) \n",
    "root = insert(root, 49)\n",
    "root = insert(root, 22)\n",
    "root = insert(root, 26)\n",
    "root = insert(root, 47)\n",
    "root = insert(root, 90)\n",
    "root = insert(root, 30)\n",
    "root = insert(root, 80)\n",
    "inorder(root)\n",
    "rootAfterDeleting24 = delete(root, 24)\n",
    "print(\"\\n\")\n",
    "print(\"After Deleting node 24\")\n",
    "inorder(rootAfterDeleting24)\n"
   ]
  },
  {
   "cell_type": "code",
   "execution_count": null,
   "metadata": {},
   "outputs": [],
   "source": []
  }
 ],
 "metadata": {
  "kernelspec": {
   "display_name": "Python 3",
   "language": "python",
   "name": "python3"
  },
  "language_info": {
   "codemirror_mode": {
    "name": "ipython",
    "version": 3
   },
   "file_extension": ".py",
   "mimetype": "text/x-python",
   "name": "python",
   "nbconvert_exporter": "python",
   "pygments_lexer": "ipython3",
   "version": "3.8.5"
  },
  "orig_nbformat": 4
 },
 "nbformat": 4,
 "nbformat_minor": 2
}
