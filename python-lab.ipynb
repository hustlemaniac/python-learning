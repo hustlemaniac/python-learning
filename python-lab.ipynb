{
 "cells": [
  {
   "cell_type": "markdown",
   "metadata": {},
   "source": [
    "1) Aim: Introduce the Python fundamentals, data types, operators, flow control and exception handling in Python\n",
    "\n"
   ]
  },
  {
   "cell_type": "markdown",
   "metadata": {},
   "source": [
    "a) Write a python program to find the best of two test average marks out of three test’s marks accepted from the user.\n",
    "\n"
   ]
  },
  {
   "cell_type": "code",
   "execution_count": 1,
   "metadata": {},
   "outputs": [
    {
     "name": "stdout",
     "output_type": "stream",
     "text": [
      "The average of the best two test marks is:  18.5\n"
     ]
    }
   ],
   "source": [
    "# find the best two marks out of the three marks entered and find the average of those two\n",
    "m1 = int (input(\"Enter the marks in the first test: \"))\n",
    "m2 = int (input(\"Enter the marks in second test: \"))\n",
    "m3 = int (input(\"Enter the marks in third test: \"))\n",
    "\n",
    "if (m1 > m2):\n",
    "    # m1 is greater\n",
    "    # looking for greatest in m2 and m3\n",
    "    if (m2 > m3):\n",
    "        # m1 > m2 > m3\n",
    "        total = m1 + m2\n",
    "    else: \n",
    "        # m1 > m3 > m2\n",
    "        total = m1 + m3\n",
    "# m2 is greater\n",
    "elif (m1 > m3):\n",
    "    # m1 is greater\n",
    "    # m2 > m1 > m3\n",
    "    total = m1 + m2\n",
    "else:\n",
    "    # m1 is smallest\n",
    "    # m2 > m1 and m3 > m1\n",
    "    total = m2 + m3\n",
    "    \n",
    "Avg = total / 2\n",
    "print (\"The average of the best two test marks is: \",Avg)"
   ]
  },
  {
   "cell_type": "markdown",
   "metadata": {},
   "source": [
    "b) Develop a Python program to check whether a given number is palindrome or not and also count the number of occurrences of each digit in the input number."
   ]
  },
  {
   "cell_type": "code",
   "execution_count": 8,
   "metadata": {},
   "outputs": [
    {
     "name": "stdout",
     "output_type": "stream",
     "text": [
      "True\n",
      "{0: 0, 1: 2, 2: 1, 3: 2, 4: 4, 5: 1, 6: 2, 7: 1, 8: 2, 9: 1}\n"
     ]
    }
   ],
   "source": [
    "def checkPalindorme(n):\n",
    "    rv = 0\n",
    "    ov = n\n",
    "    while n:\n",
    "        d = n % 10\n",
    "        rv = rv * 10 + d\n",
    "        n = n // 10\n",
    "    return rv == ov\n",
    "\n",
    "def countDigits(n):\n",
    "    numlist = [(i, 0) for i in range(0, 10) ]\n",
    "    numDict = {k : v for (k, v) in numlist}\n",
    "    while n :\n",
    "        d = n % 10\n",
    "        numDict[d] += 1\n",
    "        n = n // 10\n",
    "    return numDict\n",
    "print(checkPalindorme(99))\n",
    "print(countDigits(1384628746541394))\n",
    "\n"
   ]
  },
  {
   "cell_type": "markdown",
   "metadata": {},
   "source": [
    "2) Aim: Demonstrating creation of functions, passing parameters and return values"
   ]
  },
  {
   "cell_type": "markdown",
   "metadata": {},
   "source": [
    "a) Defined as a function F as Fn = Fn-1 + Fn-2. Write a Python program which accepts a value for N (where N >0) as input and pass this value to the function. Display suitable error message if the condition for input value is not followed.\n"
   ]
  },
  {
   "cell_type": "code",
   "execution_count": 14,
   "metadata": {},
   "outputs": [
    {
     "name": "stdout",
     "output_type": "stream",
     "text": [
      "Zero entered\n",
      "Zero entered\n",
      "Zero entered\n",
      "Zero entered\n",
      "5\n"
     ]
    }
   ],
   "source": [
    "def f(n):\n",
    "    if not n:\n",
    "        return n\n",
    "    if n == 1:\n",
    "        return n\n",
    "    return f(n - 1) + f(n - 2)\n",
    "while True:\n",
    "    n = int(input(\"Enter a natural number\"))\n",
    "    if n:\n",
    "        print(f(n))\n",
    "        break\n",
    "    print(\"Zero entered\")\n",
    "    "
   ]
  },
  {
   "cell_type": "markdown",
   "metadata": {},
   "source": [
    "\n",
    "b) Develop a python program to convert binary to decimal, octal to hexadecimal using function"
   ]
  },
  {
   "cell_type": "code",
   "execution_count": 19,
   "metadata": {},
   "outputs": [
    {
     "name": "stdout",
     "output_type": "stream",
     "text": [
      "5\n",
      "0xa53\n"
     ]
    }
   ],
   "source": [
    "def binTodec(binary):\n",
    "    decimal = 0\n",
    "    p = 0 \n",
    "    while binary:\n",
    "        dec = binary % 10\n",
    "        decimal += dec * pow(2, p)\n",
    "        binary = binary // 10\n",
    "        p += 1\n",
    "    return decimal\n",
    "\n",
    "def octTohex(octal):\n",
    "    # convert to integer first and then to hexadecimal\n",
    "    return hex(int(str(octal), 8))\n",
    "print(binTodec(101))\n",
    "print(octTohex(5123))\n"
   ]
  },
  {
   "cell_type": "markdown",
   "metadata": {},
   "source": [
    "3) Aim: Demonstration of manipulation of strings using string methods\n"
   ]
  },
  {
   "cell_type": "markdown",
   "metadata": {},
   "source": [
    "\n",
    "a) Write a Python program that accepts a sentence and find the number of words, digits, uppercase letters and lowercase letters.\n",
    "\n"
   ]
  },
  {
   "cell_type": "code",
   "execution_count": 2,
   "metadata": {},
   "outputs": [
    {
     "name": "stdout",
     "output_type": "stream",
     "text": [
      "Number of words are :  5\n",
      "Number of digits are :  7\n",
      "Number of uppercase letters are :  2\n",
      "Number of lowercase letters are :  15\n"
     ]
    }
   ],
   "source": [
    "def helper(s):\n",
    "    print(\"Number of words are : \", len(s.split()))\n",
    "    print(\"Number of digits are : \", sum(1 if i.isnumeric() else 0 for i in s))\n",
    "    print(\"Number of uppercase letters are : \", sum(1 if i.isupper() else 0 for i in s))\n",
    "    print(\"Number of lowercase letters are : \", sum(1 if i.islower() else 0 for i in s))\n",
    "\n",
    "helper(input(\"Enter a sentence\"))"
   ]
  },
  {
   "cell_type": "markdown",
   "metadata": {},
   "source": [
    "b) Write a Python program to find the string similarity between two given strings"
   ]
  },
  {
   "cell_type": "code",
   "execution_count": 3,
   "metadata": {},
   "outputs": [
    {
     "name": "stdout",
     "output_type": "stream",
     "text": [
      "The similarity between 2 strings is : 0.967741935483871\n"
     ]
    }
   ],
   "source": [
    "from difflib import SequenceMatcher\n",
    " \n",
    "# Utility function to compute similarity\n",
    "def similar(str1, str2):\n",
    "    return SequenceMatcher(None, str1, str2).ratio()\n",
    " \n",
    "# Initializing strings\n",
    "test_string1 = 'Python Exercises'\n",
    "test_string2 = 'Python Exercise'\n",
    " \n",
    "# using SequenceMatcher.ratio()\n",
    "# similarity between strings\n",
    "res = similar(test_string1, test_string2)\n",
    " \n",
    "# printing the result\n",
    "print (\"The similarity between 2 strings is : \" + str(res))"
   ]
  },
  {
   "cell_type": "markdown",
   "metadata": {},
   "source": [
    "4) Aim: Discuss different collections like list, tuple and dictionary"
   ]
  },
  {
   "cell_type": "markdown",
   "metadata": {},
   "source": [
    "a) Write a python program to implement insertion sort and merge sort using lists"
   ]
  },
  {
   "cell_type": "code",
   "execution_count": 8,
   "metadata": {},
   "outputs": [
    {
     "name": "stdout",
     "output_type": "stream",
     "text": [
      "[17, 20, 26, 31, 44, 54, 55, 77, 93]\n",
      "[17, 20, 26, 31, 44, 54, 55, 77, 93]\n"
     ]
    }
   ],
   "source": [
    "def insertionSort(a):\n",
    "    for i in range(1, len(a)):\n",
    "        pos = i\n",
    "        curr = a[i]\n",
    "        while pos > 0 and a[pos - 1] > curr:\n",
    "            a[pos] = a[pos - 1]\n",
    "            pos -= 1\n",
    "        a[pos] = curr\n",
    "    return a\n",
    "def mergeSort(a):\n",
    "    if len(a) > 1:\n",
    "        mid = len(a) // 2\n",
    "        left = a[:mid]\n",
    "        right = a[mid:]\n",
    "        mergeSort(left)\n",
    "        mergeSort(right)\n",
    "        i = j = k = 0\n",
    "        while i < len(left) and j < len(right):\n",
    "            if left[i] <= right[j]:\n",
    "                a[k] = left[i]\n",
    "                i += 1\n",
    "            else:\n",
    "                a[k] = right[j]\n",
    "                j += 1\n",
    "            k += 1\n",
    "        while i < len(left):\n",
    "            a[k] = left[i]\n",
    "            i += 1\n",
    "            k += 1\n",
    "        while j < len(right):\n",
    "            a[k] = right[j]\n",
    "            j += 1\n",
    "            k += 1\n",
    "print(insertionSort([54,26,93,17,77,31,44,55,20]))\n",
    "a = [54,26,93,17,77,31,44,55,20]\n",
    "mergeSort(a)\n",
    "print(a)"
   ]
  },
  {
   "cell_type": "markdown",
   "metadata": {},
   "source": [
    "b) Write a program to convert roman numbers in to integer values using dictionaries."
   ]
  },
  {
   "cell_type": "code",
   "execution_count": 18,
   "metadata": {},
   "outputs": [
    {
     "name": "stdout",
     "output_type": "stream",
     "text": [
      "The integer form of roman number MCMIV is  1904\n"
     ]
    }
   ],
   "source": [
    "def romanTointeger(s):\n",
    "    d = {'I' : 1, 'V' : 5, 'X' : 10, 'L' : 50, 'C' : 100, 'D' : 500, 'M' : 1000}\n",
    "    st = []\n",
    "    for c in s:\n",
    "        st.append(d[c])\n",
    "    res = 0\n",
    "    while st:\n",
    "        curr = st.pop()\n",
    "        if len(st) and st[-1] < curr:\n",
    "            res += curr - st.pop()\n",
    "        else:\n",
    "            res += curr\n",
    "    return res\n",
    "print(\"The integer form of roman number MCMIV is \", romanTointeger(\"MCMIV\"))\n",
    "\n",
    "\n"
   ]
  },
  {
   "cell_type": "markdown",
   "metadata": {},
   "source": [
    "5. Aim: Demonstration of reading, writing and organizing files."
   ]
  },
  {
   "cell_type": "markdown",
   "metadata": {},
   "source": [
    "\n",
    "a) Write a python program to accept a file name from the user and perform the\n",
    "\n",
    "following operations\n",
    "\n",
    "1. Display the first N line of the file\n",
    "\n",
    "2. Find the frequency of occurrence of the word accepted from the user in the\n",
    "\n",
    "file\n",
    "\n",
    "https://www.freecodecamp.org/news/how-to-read-a-file-line-by-line-in-python/"
   ]
  },
  {
   "cell_type": "code",
   "execution_count": 30,
   "metadata": {},
   "outputs": [
    {
     "name": "stdout",
     "output_type": "stream",
     "text": [
      "['Hello \\n', 'This is Delhi \\n']\n",
      "The number of times This appears is 3\n"
     ]
    }
   ],
   "source": [
    "# to read a file\n",
    "# then read N lines\n",
    "# to find frequency of a word from user\n",
    "import os\n",
    "def fileManipulator(path, word):\n",
    "    # to if file present or not\n",
    "    if os.path.exists(path):\n",
    "        # to open a file\n",
    "        file = open(path, 'r')\n",
    "        # to read 2 lines\n",
    "        print(file.readlines()[:2])\n",
    "        # find occurences of the word\n",
    "        # after using one read statement the pointer goes to the end \n",
    "        # hence use seek\n",
    "        file.seek(0)\n",
    "        filetxt = file.readlines()\n",
    "        print(\"The number of times\", word, \"appears is\", sum([1 for l in filetxt if word in l]))\n",
    "    else:\n",
    "        print(\"File path entered doesn't exist\")\n",
    "\n",
    "path = input(\"Enter file path\")\n",
    "word = input(\"Enter word\")\n",
    "fileManipulator(path, word)"
   ]
  },
  {
   "cell_type": "markdown",
   "metadata": {},
   "source": [
    "\n",
    "b) Write a python program to create a ZIP file of a particular folder which contains\n",
    "\n",
    "several files inside it.\n",
    "\n",
    "https://www.tutorialspoint.com/How-to-create-a-zip-file-using-Python\n"
   ]
  },
  {
   "cell_type": "code",
   "execution_count": 29,
   "metadata": {},
   "outputs": [
    {
     "name": "stdout",
     "output_type": "stream",
     "text": [
      "ZIP file created\n"
     ]
    }
   ],
   "source": [
    "import os\n",
    "from zipfile import ZipFile\n",
    "\n",
    "# Create a ZipFile Object\n",
    "with ZipFile('newZip.zip', 'w') as zip_object:\n",
    "   # Adding files that need to be zipped\n",
    "   if os.path.exists(\"samplefolder\"):\n",
    "      files = os.listdir(\"sampleFolder\")\n",
    "      for file in files:\n",
    "      # the path of the file is needed not the file content\n",
    "        zip_object.write(os.path.join(\"sampleFolder\",file))\n",
    "\n",
    "# Check to see if the zip file is created\n",
    "if os.path.exists('newZip.zip'):\n",
    "   print(\"ZIP file created\")\n",
    "else:\n",
    "   print(\"ZIP file not created\")"
   ]
  },
  {
   "cell_type": "markdown",
   "metadata": {},
   "source": [
    "6. Aim: Demonstration of the concepts of classes, methods, objects and inheritance\n"
   ]
  },
  {
   "cell_type": "markdown",
   "metadata": {},
   "source": [
    "\n",
    "a) Write a python program by creating a class called Employee to store the details of\n",
    "\n",
    "Name, Employee_ID, Department and Salary, and implement a method to update salary\n",
    "\n",
    "of employees belonging to a given department."
   ]
  },
  {
   "cell_type": "code",
   "execution_count": 32,
   "metadata": {},
   "outputs": [
    {
     "name": "stdout",
     "output_type": "stream",
     "text": [
      "Name : Ram\n",
      "ID : 3246\n",
      "Department : CSE\n",
      "Salary : 238765\n",
      "After updating salary :\n",
      "Name : Ram\n",
      "ID : 3246\n",
      "Department : CSE\n",
      "Salary : 345634\n"
     ]
    }
   ],
   "source": [
    "class Employee:\n",
    "    def __init__(self, name, id, department, salary) -> None:\n",
    "        self.Name = name\n",
    "        self.Employee_ID = id\n",
    "        self.Department = department\n",
    "        self.Salary = salary\n",
    "\n",
    "    def displayDetails(self):\n",
    "        print(\"Name :\", self.Name)\n",
    "        print(\"ID :\", self.Employee_ID)\n",
    "        print(\"Department :\", self.Department)\n",
    "        print(\"Salary :\", self.Salary)\n",
    "\n",
    "    def updateSalary(self, newSal):\n",
    "        self.Salary = newSal\n",
    "        print(\"After updating salary :\")\n",
    "        self.displayDetails()\n",
    "\n",
    "        pass\n",
    "emp1 = Employee(\"Ram\", \"3246\", \"CSE\", 238765)\n",
    "emp1.displayDetails()\n",
    "emp1.updateSalary(345634)"
   ]
  },
  {
   "cell_type": "markdown",
   "metadata": {},
   "source": [
    "b) By using the concept of inheritance write a python program to find the area of triangle,\n",
    "\n",
    "circle and rectangle.\n"
   ]
  },
  {
   "cell_type": "code",
   "execution_count": 65,
   "metadata": {},
   "outputs": [
    {
     "name": "stdout",
     "output_type": "stream",
     "text": [
      "Area of rectangle is 3015\n",
      "(0, 0, 0)\n",
      "Area of circle is 153.86\n",
      "Area of triangle is  24\n",
      "(45, 67, 123)\n"
     ]
    }
   ],
   "source": [
    "class Shape:\n",
    "    def __init__(self) -> None:\n",
    "        self.color = (0, 0, 0)\n",
    "    def area(self):\n",
    "        raise NotImplementedError()\n",
    "\n",
    "class Triangle(Shape):\n",
    "    def __init__(self, a, b, c) -> None:\n",
    "        Shape.__init__(self)\n",
    "        self.x = a\n",
    "        self.y = b\n",
    "        self.z = c \n",
    "        # overriding the super class instance attribute\n",
    "        self.color = (45, 67, 123)\n",
    "\n",
    "    def area(self):\n",
    "        print(\"Area of triangle is \", self.x * self.y * self.z)\n",
    "\n",
    "class Circle(Shape):\n",
    "    def __init__(self, r) -> None:\n",
    "        Shape.__init__(self)\n",
    "        self.radius = r\n",
    "\n",
    "    def area(self):\n",
    "        print(\"Area of circle is\", 3.14 * (self.radius) * (self.radius))\n",
    "\n",
    "class Rectangle(Shape):\n",
    "    def __init__(self, a, b) -> None:\n",
    "        Shape.__init__(self)\n",
    "        self.length = a\n",
    "        self.breadth = b\n",
    "\n",
    "    # if area func is not implemented by child class \n",
    "    # and during invoking of this func by child obj\n",
    "    # NotImplementedError will be raised\n",
    "    def area(self):\n",
    "        print(\"Area of rectangle is\", self.length * self.breadth)\n",
    "\n",
    "rec = Rectangle(45, 67)\n",
    "rec.area()\n",
    "print(rec.color)\n",
    "cir = Circle(7)\n",
    "cir.area()\n",
    "tri = Triangle(2, 3, 4)\n",
    "tri.area()\n",
    "print(tri.color)"
   ]
  },
  {
   "cell_type": "markdown",
   "metadata": {},
   "source": [
    "7. Aim: Demonstration of classes and methods with overloading and overriding\n",
    "\n"
   ]
  },
  {
   "cell_type": "markdown",
   "metadata": {},
   "source": [
    "a) Write a python program to find the whether the given input is palindrome or not (for\n",
    "\n",
    "both string and integer) using the concept of overloading."
   ]
  },
  {
   "cell_type": "code",
   "execution_count": 47,
   "metadata": {},
   "outputs": [
    {
     "name": "stdout",
     "output_type": "stream",
     "text": [
      "The given integer input is a palindrome\n",
      "The given string input is a palindrome\n"
     ]
    }
   ],
   "source": [
    "class Palindrome:\n",
    "    def __init__(self, user) -> None:\n",
    "        self.t = user\n",
    "\n",
    "    def checkPalindrome(self):\n",
    "        ori = self.t\n",
    "        res = 0\n",
    "        while ori:\n",
    "            d = ori % 10\n",
    "            res = res * 10 + d\n",
    "            ori = ori // 10\n",
    "        if self.t == res:\n",
    "            print(\"The given integer input is a palindrome\")\n",
    "        else:\n",
    "            print(\"The given integer input is not a palindrome\")\n",
    "        \n",
    "    def checkPalindrom(self):\n",
    "        if self.t == self.t[::-1]:\n",
    "            print(\"The given string input is a palindrome\")\n",
    "        else:\n",
    "            print(\"The given string input is not a palindrome\")\n",
    "\n",
    "obj1 = Palindrome(717)\n",
    "obj1.checkPalindrome()\n",
    "obj2 = Palindrome(\"tat\")\n",
    "obj2.checkPalindrom()\n",
    "\n"
   ]
  },
  {
   "cell_type": "markdown",
   "metadata": {},
   "source": [
    "b) Write a python program taking counter function as example to demonstrate overriding and inheritance"
   ]
  },
  {
   "cell_type": "code",
   "execution_count": 59,
   "metadata": {},
   "outputs": [
    {
     "name": "stdout",
     "output_type": "stream",
     "text": [
      "Current Value is 0\n",
      "Current Value is 3\n",
      "Current Value is 6\n",
      "Current Value is 9\n"
     ]
    }
   ],
   "source": [
    "class Counter:\n",
    "    def __init__(self) -> None:\n",
    "        # default start val\n",
    "        self.value = 0\n",
    "    def increment(self):\n",
    "        # default increment\n",
    "        self.value += 1\n",
    "    def currentVal(self):\n",
    "        # to print curr val\n",
    "        print(\"Current Value is\", self.value)\n",
    "class customCounter(Counter):\n",
    "    # constructor that takes step as ad arg\n",
    "    def __init__(self, step) -> None:\n",
    "        # need to call parent constructor as well to initaite the default start val\n",
    "        # parent constructor is always called when there is a parameterised constructor of the parent\n",
    "        # this statement must be the first statement\n",
    "        Counter.__init__(self)\n",
    "        self.stepVal = step\n",
    "    def increment(self):\n",
    "        # overriding the increment method\n",
    "        self.value += self.stepVal\n",
    "\n",
    "cc = customCounter(3)\n",
    "cc.currentVal()\n",
    "cc.increment()\n",
    "cc.currentVal()\n",
    "cc.increment()\n",
    "cc.currentVal()\n",
    "cc.increment()\n",
    "cc.currentVal()"
   ]
  },
  {
   "cell_type": "markdown",
   "metadata": {},
   "source": [
    "8. Aim: Demonstration of classes with composition"
   ]
  },
  {
   "cell_type": "code",
   "execution_count": 66,
   "metadata": {},
   "outputs": [
    {
     "name": "stdout",
     "output_type": "stream",
     "text": [
      "John Smith\n",
      "Alice Murphy\n"
     ]
    }
   ],
   "source": [
    "class Department:\t \n",
    "    def __init__( self ):\t \t \n",
    "        self.students = []\t \t\t \n",
    "    def enroll( self, student ):\t \t \n",
    "        self.students.append(student)\n",
    "\n",
    "class Student:\t \n",
    "    def __init__( self,last,first ):\t \t \n",
    "        self.lastname = last\t \t \n",
    "        self.firstname = first\n",
    "compsci = Department()\n",
    "compsci.enroll( Student( \"Smith\", \"John\" ) )\n",
    "compsci.enroll( Student( \"Murphy\", \"Alice\" ) )\n",
    "\n",
    "for s in compsci.students:\n",
    "    print(s.firstname, s.lastname)"
   ]
  }
 ],
 "metadata": {
  "kernelspec": {
   "display_name": "Python 3",
   "language": "python",
   "name": "python3"
  },
  "language_info": {
   "codemirror_mode": {
    "name": "ipython",
    "version": 3
   },
   "file_extension": ".py",
   "mimetype": "text/x-python",
   "name": "python",
   "nbconvert_exporter": "python",
   "pygments_lexer": "ipython3",
   "version": "3.11.4"
  },
  "orig_nbformat": 4
 },
 "nbformat": 4,
 "nbformat_minor": 2
}
